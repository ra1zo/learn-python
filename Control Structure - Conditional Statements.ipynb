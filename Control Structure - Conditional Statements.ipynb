{
 "cells": [
  {
   "cell_type": "markdown",
   "id": "638df42e",
   "metadata": {},
   "source": [
    "# Control Structure"
   ]
  },
  {
   "cell_type": "markdown",
   "id": "6259a723",
   "metadata": {},
   "source": [
    "## Types\n",
    "\n",
    "1. Conditional Statements\n",
    "2. Loops\n",
    "3. Other"
   ]
  },
  {
   "cell_type": "markdown",
   "id": "c73d15f5",
   "metadata": {},
   "source": [
    "## Conditional Statements"
   ]
  },
  {
   "cell_type": "markdown",
   "id": "3dd48d18",
   "metadata": {},
   "source": [
    "### Types\n",
    "\n",
    "1. If\n",
    "2. Ifelse\n",
    "3. Elif\n"
   ]
  },
  {
   "cell_type": "markdown",
   "id": "bfdb1a14",
   "metadata": {},
   "source": [
    "# If Condition"
   ]
  },
  {
   "cell_type": "code",
   "execution_count": 4,
   "id": "2a602a43",
   "metadata": {},
   "outputs": [
    {
     "ename": "SyntaxError",
     "evalue": "invalid syntax (<ipython-input-4-1ffa77f072b0>, line 1)",
     "output_type": "error",
     "traceback": [
      "\u001b[1;36m  File \u001b[1;32m\"<ipython-input-4-1ffa77f072b0>\"\u001b[1;36m, line \u001b[1;32m1\u001b[0m\n\u001b[1;33m    if <expression>:\u001b[0m\n\u001b[1;37m       ^\u001b[0m\n\u001b[1;31mSyntaxError\u001b[0m\u001b[1;31m:\u001b[0m invalid syntax\n"
     ]
    }
   ],
   "source": [
    "if <expression>:\n",
    "    <statements>"
   ]
  },
  {
   "cell_type": "code",
   "execution_count": null,
   "id": "804834d8",
   "metadata": {},
   "outputs": [],
   "source": [
    "## Program to check a number if its divisble by 2"
   ]
  },
  {
   "cell_type": "code",
   "execution_count": 11,
   "id": "c7ef81a9",
   "metadata": {},
   "outputs": [
    {
     "name": "stdout",
     "output_type": "stream",
     "text": [
      "Enter a value:298\n",
      "Divisible by 2\n"
     ]
    }
   ],
   "source": [
    "number =int(input(\"Enter a value:\"))\n",
    "\n",
    "if (number % 2 == 0):\n",
    "    print(\"Divisible by 2\")\n"
   ]
  },
  {
   "cell_type": "code",
   "execution_count": null,
   "id": "89ad48db",
   "metadata": {},
   "outputs": [],
   "source": []
  },
  {
   "cell_type": "code",
   "execution_count": null,
   "id": "51f25e98",
   "metadata": {},
   "outputs": [],
   "source": []
  }
 ],
 "metadata": {
  "kernelspec": {
   "display_name": "Python 3",
   "language": "python",
   "name": "python3"
  },
  "language_info": {
   "codemirror_mode": {
    "name": "ipython",
    "version": 3
   },
   "file_extension": ".py",
   "mimetype": "text/x-python",
   "name": "python",
   "nbconvert_exporter": "python",
   "pygments_lexer": "ipython3",
   "version": "3.8.11"
  }
 },
 "nbformat": 4,
 "nbformat_minor": 5
}
