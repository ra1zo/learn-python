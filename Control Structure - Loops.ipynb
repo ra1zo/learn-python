{
 "cells": [
  {
   "cell_type": "markdown",
   "id": "57c53130",
   "metadata": {},
   "source": [
    "# Loops"
   ]
  },
  {
   "cell_type": "markdown",
   "id": "89bd64b5",
   "metadata": {},
   "source": [
    "## Types\n",
    "\n",
    "    1. Loop\n",
    "    2. While Loop\n",
    "\n",
    "### For Loop"
   ]
  },
  {
   "cell_type": "code",
   "execution_count": null,
   "id": "d5fd8088",
   "metadata": {},
   "outputs": [],
   "source": [
    "for <variable> in <sequence/condition>:\n",
    "    <statements>"
   ]
  },
  {
   "cell_type": "code",
   "execution_count": 2,
   "id": "58fafc03",
   "metadata": {},
   "outputs": [],
   "source": [
    "a = list(range(0,16))"
   ]
  },
  {
   "cell_type": "markdown",
   "id": "dbcecebe",
   "metadata": {},
   "source": [
    "a"
   ]
  },
  {
   "cell_type": "markdown",
   "id": "7c02ded4",
   "metadata": {},
   "source": [
    "for b in a:\n",
    "    print(b)"
   ]
  },
  {
   "cell_type": "code",
   "execution_count": 5,
   "id": "b2ba3e3d",
   "metadata": {},
   "outputs": [
    {
     "name": "stdout",
     "output_type": "stream",
     "text": [
      "s\n",
      "a\n",
      "m\n",
      "u\n",
      "e\n",
      "l\n"
     ]
    }
   ],
   "source": [
    "for c in 'samuel':\n",
    "    print(c)"
   ]
  },
  {
   "cell_type": "code",
   "execution_count": 6,
   "id": "301cb186",
   "metadata": {},
   "outputs": [
    {
     "name": "stdout",
     "output_type": "stream",
     "text": [
      "0\n",
      "10\n",
      "20\n",
      "30\n",
      "40\n",
      "50\n",
      "60\n",
      "70\n",
      "80\n",
      "90\n"
     ]
    }
   ],
   "source": [
    "for d in range(0,100,10):\n",
    "    print(d)"
   ]
  },
  {
   "cell_type": "code",
   "execution_count": 8,
   "id": "156f0d37",
   "metadata": {},
   "outputs": [
    {
     "name": "stdout",
     "output_type": "stream",
     "text": [
      "10\n",
      "9\n",
      "8\n",
      "7\n",
      "6\n",
      "5\n",
      "4\n",
      "3\n",
      "2\n",
      "1\n",
      "0\n"
     ]
    }
   ],
   "source": [
    "for e in reversed (range(11)):\n",
    "    print(e)"
   ]
  },
  {
   "cell_type": "markdown",
   "id": "d191d337",
   "metadata": {},
   "source": [
    "## Program to find even/odd for first 20 number in number series:"
   ]
  },
  {
   "cell_type": "code",
   "execution_count": 15,
   "id": "95a28385",
   "metadata": {},
   "outputs": [
    {
     "name": "stdout",
     "output_type": "stream",
     "text": [
      "The number 1 is odd number\n",
      "The number 2 is even number\n",
      "The number 3 is odd number\n",
      "The number 4 is even number\n",
      "The number 5 is odd number\n",
      "The number 6 is even number\n",
      "The number 7 is odd number\n",
      "The number 8 is even number\n",
      "The number 9 is odd number\n",
      "The number 10 is even number\n",
      "The number 11 is odd number\n",
      "The number 12 is even number\n",
      "The number 13 is odd number\n",
      "The number 14 is even number\n",
      "The number 15 is odd number\n",
      "The number 16 is even number\n",
      "The number 17 is odd number\n",
      "The number 18 is even number\n",
      "The number 19 is odd number\n",
      "The number 20 is even number\n"
     ]
    }
   ],
   "source": [
    "for f in range(1,21):\n",
    "    if (f%2==0):\n",
    "        print(f\"The number {f} is even number\")\n",
    "    else:\n",
    "        print(f\"The number {f} is odd number\")"
   ]
  },
  {
   "cell_type": "code",
   "execution_count": 16,
   "id": "479bfe5c",
   "metadata": {},
   "outputs": [],
   "source": [
    "## Task - Find the sum of series 2+22+222+2222+...n\n",
    "## Get number of elements for series from the user and built the program find the sum of it."
   ]
  },
  {
   "cell_type": "code",
   "execution_count": 51,
   "id": "dd9934ca",
   "metadata": {},
   "outputs": [
    {
     "name": "stdout",
     "output_type": "stream",
     "text": [
      "Enter Number of Elements: 5\n",
      "\n",
      "2\n",
      "22\n",
      "222\n",
      "2222\n",
      "summ = 24690\n"
     ]
    }
   ],
   "source": [
    "n=int(input(\"Enter Number of Elements: \"))\n",
    "sum=0\n",
    "x=2\n",
    "for i in range(0,n):\n",
    "    sum+=x\n",
    "    x = (x * 10) + 2\n",
    "    print(\"2\"*i)\n",
    "    \n",
    "print(f\"summ =\",sum)   \n",
    "    "
   ]
  },
  {
   "cell_type": "markdown",
   "id": "089211e7",
   "metadata": {},
   "source": [
    "## While Loop"
   ]
  },
  {
   "cell_type": "code",
   "execution_count": null,
   "id": "b98a4c98",
   "metadata": {},
   "outputs": [],
   "source": [
    "while <condition>:\n",
    "    <statements>"
   ]
  },
  {
   "cell_type": "code",
   "execution_count": 53,
   "id": "68888a99",
   "metadata": {},
   "outputs": [],
   "source": [
    "count = 0\n"
   ]
  },
  {
   "cell_type": "code",
   "execution_count": 58,
   "id": "b412baaf",
   "metadata": {},
   "outputs": [
    {
     "ename": "SyntaxError",
     "evalue": "invalid syntax (<ipython-input-58-15ab3cad5a0d>, line 1)",
     "output_type": "error",
     "traceback": [
      "\u001b[1;36m  File \u001b[1;32m\"<ipython-input-58-15ab3cad5a0d>\"\u001b[1;36m, line \u001b[1;32m1\u001b[0m\n\u001b[1;33m    while count+=1<10:\u001b[0m\n\u001b[1;37m               ^\u001b[0m\n\u001b[1;31mSyntaxError\u001b[0m\u001b[1;31m:\u001b[0m invalid syntax\n"
     ]
    }
   ],
   "source": [
    "while count<10:\n",
    "    print(\"Inside Loop\")\n",
    "    count+=1"
   ]
  },
  {
   "cell_type": "markdown",
   "id": "f8b5f983",
   "metadata": {},
   "source": [
    "## Task - Create a while loop to find factorial of number"
   ]
  },
  {
   "cell_type": "code",
   "execution_count": 69,
   "id": "acd503e6",
   "metadata": {},
   "outputs": [
    {
     "name": "stdout",
     "output_type": "stream",
     "text": [
      "Enter a Number:5\n",
      "120\n"
     ]
    }
   ],
   "source": [
    "n=int(input(\"Enter a Number:\"))\n",
    "fact=1\n",
    "i=1\n",
    "while(i<=n):\n",
    "    fact=fact*i\n",
    "    i+=1\n",
    "\n",
    "print(fact)"
   ]
  },
  {
   "cell_type": "code",
   "execution_count": null,
   "id": "5c767a40",
   "metadata": {},
   "outputs": [],
   "source": []
  },
  {
   "cell_type": "code",
   "execution_count": null,
   "id": "d9efc9bb",
   "metadata": {},
   "outputs": [],
   "source": []
  }
 ],
 "metadata": {
  "kernelspec": {
   "display_name": "Python 3",
   "language": "python",
   "name": "python3"
  },
  "language_info": {
   "codemirror_mode": {
    "name": "ipython",
    "version": 3
   },
   "file_extension": ".py",
   "mimetype": "text/x-python",
   "name": "python",
   "nbconvert_exporter": "python",
   "pygments_lexer": "ipython3",
   "version": "3.8.11"
  }
 },
 "nbformat": 4,
 "nbformat_minor": 5
}
