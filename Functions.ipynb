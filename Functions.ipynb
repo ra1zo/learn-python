{
 "cells": [
  {
   "cell_type": "code",
   "execution_count": null,
   "id": "ef6bb716",
   "metadata": {},
   "outputs": [],
   "source": [
    "# Functions\n",
    "\n",
    "def functionname():\n",
    "    <statements>"
   ]
  },
  {
   "cell_type": "code",
   "execution_count": 4,
   "id": "54928114",
   "metadata": {},
   "outputs": [
    {
     "name": "stdout",
     "output_type": "stream",
     "text": [
      "9\n"
     ]
    }
   ],
   "source": [
    "a=5\n",
    "b=4\n",
    "s=0\n",
    "def adding():\n",
    "    s=a+b\n",
    "    print(s)\n",
    "adding()"
   ]
  },
  {
   "cell_type": "code",
   "execution_count": 8,
   "id": "15149ab4",
   "metadata": {},
   "outputs": [
    {
     "ename": "SyntaxError",
     "evalue": "invalid syntax (<ipython-input-8-8ce1f4a694d7>, line 3)",
     "output_type": "error",
     "traceback": [
      "\u001b[1;36m  File \u001b[1;32m\"<ipython-input-8-8ce1f4a694d7>\"\u001b[1;36m, line \u001b[1;32m3\u001b[0m\n\u001b[1;33m    return f=m*a\u001b[0m\n\u001b[1;37m            ^\u001b[0m\n\u001b[1;31mSyntaxError\u001b[0m\u001b[1;31m:\u001b[0m invalid syntax\n"
     ]
    }
   ],
   "source": [
    "def force(m,a):\n",
    "    f=m*a\n",
    "    print(f)\n",
    "force(10,9)"
   ]
  },
  {
   "cell_type": "markdown",
   "id": "72b9174f",
   "metadata": {},
   "source": [
    "# Lambda Function"
   ]
  },
  {
   "cell_type": "code",
   "execution_count": null,
   "id": "b483c327",
   "metadata": {},
   "outputs": [],
   "source": [
    "syntax : lambda arguments:expression"
   ]
  },
  {
   "cell_type": "code",
   "execution_count": 9,
   "id": "7a4a6557",
   "metadata": {},
   "outputs": [
    {
     "name": "stdout",
     "output_type": "stream",
     "text": [
      "8\n"
     ]
    }
   ],
   "source": [
    "s=lambda a,b:a+b\n",
    "print(s(3,5))"
   ]
  },
  {
   "cell_type": "markdown",
   "id": "b5dc401f",
   "metadata": {},
   "source": [
    "# Map And Filter"
   ]
  },
  {
   "cell_type": "markdown",
   "id": "c82a166d",
   "metadata": {},
   "source": [
    "### Map"
   ]
  },
  {
   "cell_type": "code",
   "execution_count": 10,
   "id": "8c18c36b",
   "metadata": {},
   "outputs": [],
   "source": [
    "a=[1,2,3,4,5]"
   ]
  },
  {
   "cell_type": "code",
   "execution_count": 12,
   "id": "997ce68c",
   "metadata": {},
   "outputs": [],
   "source": [
    "res=list(map(lambda n:n+n , a))"
   ]
  },
  {
   "cell_type": "code",
   "execution_count": 13,
   "id": "732c67fd",
   "metadata": {},
   "outputs": [
    {
     "name": "stdout",
     "output_type": "stream",
     "text": [
      "[2, 4, 6, 8, 10]\n"
     ]
    }
   ],
   "source": [
    "print(res)"
   ]
  },
  {
   "cell_type": "markdown",
   "id": "b6258eb2",
   "metadata": {},
   "source": [
    "## filter"
   ]
  },
  {
   "cell_type": "code",
   "execution_count": 14,
   "id": "db674f17",
   "metadata": {},
   "outputs": [],
   "source": [
    "b=[1,2,3,4,5,6]"
   ]
  },
  {
   "cell_type": "code",
   "execution_count": 15,
   "id": "79190548",
   "metadata": {},
   "outputs": [],
   "source": [
    "res1=list(filter(lambda c:(c % 2 ==0) , b))"
   ]
  },
  {
   "cell_type": "code",
   "execution_count": 16,
   "id": "13b490dd",
   "metadata": {},
   "outputs": [
    {
     "name": "stdout",
     "output_type": "stream",
     "text": [
      "[2, 4, 6]\n"
     ]
    }
   ],
   "source": [
    "print (res1)"
   ]
  },
  {
   "cell_type": "code",
   "execution_count": null,
   "id": "ba223ad2",
   "metadata": {},
   "outputs": [],
   "source": []
  }
 ],
 "metadata": {
  "kernelspec": {
   "display_name": "Python 3",
   "language": "python",
   "name": "python3"
  },
  "language_info": {
   "codemirror_mode": {
    "name": "ipython",
    "version": 3
   },
   "file_extension": ".py",
   "mimetype": "text/x-python",
   "name": "python",
   "nbconvert_exporter": "python",
   "pygments_lexer": "ipython3",
   "version": "3.8.11"
  }
 },
 "nbformat": 4,
 "nbformat_minor": 5
}
