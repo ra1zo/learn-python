{
 "cells": [
  {
   "cell_type": "markdown",
   "id": "a4596c47",
   "metadata": {},
   "source": [
    "# Iterators and Generators"
   ]
  },
  {
   "cell_type": "markdown",
   "id": "591b2829",
   "metadata": {},
   "source": [
    "## Iterators"
   ]
  },
  {
   "cell_type": "code",
   "execution_count": 1,
   "id": "f7259747",
   "metadata": {},
   "outputs": [],
   "source": [
    "d = (3,4,5,6,7,8)"
   ]
  },
  {
   "cell_type": "code",
   "execution_count": 2,
   "id": "20fcba96",
   "metadata": {},
   "outputs": [],
   "source": [
    "ite = iter(d)"
   ]
  },
  {
   "cell_type": "code",
   "execution_count": 6,
   "id": "6a66b2c5",
   "metadata": {},
   "outputs": [
    {
     "name": "stdout",
     "output_type": "stream",
     "text": [
      "6\n"
     ]
    }
   ],
   "source": [
    "print(next(ite))"
   ]
  },
  {
   "cell_type": "markdown",
   "id": "098c75f4",
   "metadata": {},
   "source": [
    "## Generators"
   ]
  },
  {
   "cell_type": "code",
   "execution_count": 8,
   "id": "f6be98f2",
   "metadata": {},
   "outputs": [],
   "source": [
    "def simplegen():\n",
    "    yield 1\n",
    "    yield 2\n",
    "    yield 3"
   ]
  },
  {
   "cell_type": "code",
   "execution_count": 10,
   "id": "330efb9d",
   "metadata": {},
   "outputs": [
    {
     "name": "stdout",
     "output_type": "stream",
     "text": [
      "1\n",
      "2\n",
      "3\n"
     ]
    }
   ],
   "source": [
    "for i in simplegen():\n",
    "    print(i)"
   ]
  },
  {
   "cell_type": "code",
   "execution_count": null,
   "id": "23ec0ce0",
   "metadata": {},
   "outputs": [],
   "source": []
  }
 ],
 "metadata": {
  "kernelspec": {
   "display_name": "Python 3",
   "language": "python",
   "name": "python3"
  },
  "language_info": {
   "codemirror_mode": {
    "name": "ipython",
    "version": 3
   },
   "file_extension": ".py",
   "mimetype": "text/x-python",
   "name": "python",
   "nbconvert_exporter": "python",
   "pygments_lexer": "ipython3",
   "version": "3.8.11"
  }
 },
 "nbformat": 4,
 "nbformat_minor": 5
}
