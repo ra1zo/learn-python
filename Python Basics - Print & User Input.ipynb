{
 "cells": [
  {
   "cell_type": "markdown",
   "id": "0c941295",
   "metadata": {},
   "source": [
    "# Print\n",
    "\n",
    "1. Normal Print\n",
    "2. Format Print"
   ]
  },
  {
   "cell_type": "markdown",
   "id": "e8975a93",
   "metadata": {},
   "source": [
    "## Normal Print"
   ]
  },
  {
   "cell_type": "code",
   "execution_count": 1,
   "id": "2919490c",
   "metadata": {},
   "outputs": [
    {
     "name": "stdout",
     "output_type": "stream",
     "text": [
      "Samuel\n"
     ]
    }
   ],
   "source": [
    "print(\"Samuel\")"
   ]
  },
  {
   "cell_type": "code",
   "execution_count": 2,
   "id": "86459947",
   "metadata": {},
   "outputs": [],
   "source": [
    "a = 45"
   ]
  },
  {
   "cell_type": "code",
   "execution_count": 3,
   "id": "aaaeb147",
   "metadata": {},
   "outputs": [
    {
     "name": "stdout",
     "output_type": "stream",
     "text": [
      "45\n"
     ]
    }
   ],
   "source": [
    "print(a)"
   ]
  },
  {
   "cell_type": "markdown",
   "id": "1738e476",
   "metadata": {},
   "source": [
    "## Format Print"
   ]
  },
  {
   "cell_type": "markdown",
   "id": "e2ae5f6d",
   "metadata": {},
   "source": [
    "### Type 1"
   ]
  },
  {
   "cell_type": "code",
   "execution_count": 5,
   "id": "0a19e5b9",
   "metadata": {},
   "outputs": [
    {
     "name": "stdout",
     "output_type": "stream",
     "text": [
      "My name is Samuel and im from Chennai\n"
     ]
    }
   ],
   "source": [
    "print(\"My name is {} and im from {}\".format('Samuel','Chennai'))"
   ]
  },
  {
   "cell_type": "code",
   "execution_count": 6,
   "id": "98abb5fc",
   "metadata": {},
   "outputs": [
    {
     "name": "stdout",
     "output_type": "stream",
     "text": [
      "My name is Chennai and im from Samuel\n"
     ]
    }
   ],
   "source": [
    "print(\"My name is {} and im from {}\".format('Chennai','Samuel'))"
   ]
  },
  {
   "cell_type": "markdown",
   "id": "bd0bfe07",
   "metadata": {},
   "source": [
    "### Type 2"
   ]
  },
  {
   "cell_type": "code",
   "execution_count": 7,
   "id": "68413d09",
   "metadata": {},
   "outputs": [],
   "source": [
    "name = 'Britto'"
   ]
  },
  {
   "cell_type": "code",
   "execution_count": 10,
   "id": "d3695b2a",
   "metadata": {},
   "outputs": [
    {
     "name": "stdout",
     "output_type": "stream",
     "text": [
      "The person from Chennai is  Britto\n"
     ]
    }
   ],
   "source": [
    "print('The person from Chennai is ',name)"
   ]
  },
  {
   "cell_type": "markdown",
   "id": "dec82ce0",
   "metadata": {},
   "source": [
    "### Type 3 *"
   ]
  },
  {
   "cell_type": "code",
   "execution_count": 12,
   "id": "17bef8f6",
   "metadata": {},
   "outputs": [],
   "source": [
    "place = \"Kerala\""
   ]
  },
  {
   "cell_type": "code",
   "execution_count": 13,
   "id": "0262790b",
   "metadata": {},
   "outputs": [
    {
     "name": "stdout",
     "output_type": "stream",
     "text": [
      "My name is Britto from Kerala\n"
     ]
    }
   ],
   "source": [
    "print(f\"My name is {name} from {place}\")"
   ]
  },
  {
   "cell_type": "markdown",
   "id": "891653fb",
   "metadata": {},
   "source": [
    "# User Input"
   ]
  },
  {
   "cell_type": "code",
   "execution_count": 14,
   "id": "9590e51b",
   "metadata": {},
   "outputs": [
    {
     "name": "stdout",
     "output_type": "stream",
     "text": [
      "great\n"
     ]
    },
    {
     "data": {
      "text/plain": [
       "'great'"
      ]
     },
     "execution_count": 14,
     "metadata": {},
     "output_type": "execute_result"
    }
   ],
   "source": [
    "input()"
   ]
  },
  {
   "cell_type": "code",
   "execution_count": 15,
   "id": "2ffae020",
   "metadata": {},
   "outputs": [
    {
     "name": "stdout",
     "output_type": "stream",
     "text": [
      "43\n"
     ]
    }
   ],
   "source": [
    "a = input()"
   ]
  },
  {
   "cell_type": "code",
   "execution_count": 16,
   "id": "6c634e55",
   "metadata": {},
   "outputs": [
    {
     "data": {
      "text/plain": [
       "'43'"
      ]
     },
     "execution_count": 16,
     "metadata": {},
     "output_type": "execute_result"
    }
   ],
   "source": [
    "a"
   ]
  },
  {
   "cell_type": "code",
   "execution_count": 18,
   "id": "f250f898",
   "metadata": {},
   "outputs": [
    {
     "name": "stdout",
     "output_type": "stream",
     "text": [
      "Enter name: Samuel\n",
      "Enter place: Chennai\n"
     ]
    }
   ],
   "source": [
    "b = input(\"Enter name: \")\n",
    "c = input(\"Enter place: \")"
   ]
  },
  {
   "cell_type": "code",
   "execution_count": 19,
   "id": "8d12852d",
   "metadata": {},
   "outputs": [
    {
     "data": {
      "text/plain": [
       "'Samuel'"
      ]
     },
     "execution_count": 19,
     "metadata": {},
     "output_type": "execute_result"
    }
   ],
   "source": [
    "b"
   ]
  },
  {
   "cell_type": "code",
   "execution_count": 20,
   "id": "d8b3af02",
   "metadata": {},
   "outputs": [
    {
     "data": {
      "text/plain": [
       "str"
      ]
     },
     "execution_count": 20,
     "metadata": {},
     "output_type": "execute_result"
    }
   ],
   "source": [
    "type(a)"
   ]
  },
  {
   "cell_type": "code",
   "execution_count": 21,
   "id": "2eb59b5c",
   "metadata": {},
   "outputs": [
    {
     "data": {
      "text/plain": [
       "str"
      ]
     },
     "execution_count": 21,
     "metadata": {},
     "output_type": "execute_result"
    }
   ],
   "source": [
    "type(b)"
   ]
  },
  {
   "cell_type": "code",
   "execution_count": 22,
   "id": "ca567417",
   "metadata": {},
   "outputs": [
    {
     "name": "stdout",
     "output_type": "stream",
     "text": [
      "Enter Value :50\n"
     ]
    }
   ],
   "source": [
    "d=int(input(\"Enter Value :\"))"
   ]
  },
  {
   "cell_type": "code",
   "execution_count": 23,
   "id": "c54f247e",
   "metadata": {},
   "outputs": [
    {
     "data": {
      "text/plain": [
       "50"
      ]
     },
     "execution_count": 23,
     "metadata": {},
     "output_type": "execute_result"
    }
   ],
   "source": [
    "d"
   ]
  },
  {
   "cell_type": "code",
   "execution_count": 24,
   "id": "0ea5a6d2",
   "metadata": {},
   "outputs": [
    {
     "data": {
      "text/plain": [
       "int"
      ]
     },
     "execution_count": 24,
     "metadata": {},
     "output_type": "execute_result"
    }
   ],
   "source": [
    "type(d)"
   ]
  },
  {
   "cell_type": "code",
   "execution_count": null,
   "id": "b5e9ea04",
   "metadata": {},
   "outputs": [],
   "source": []
  }
 ],
 "metadata": {
  "kernelspec": {
   "display_name": "Python 3",
   "language": "python",
   "name": "python3"
  },
  "language_info": {
   "codemirror_mode": {
    "name": "ipython",
    "version": 3
   },
   "file_extension": ".py",
   "mimetype": "text/x-python",
   "name": "python",
   "nbconvert_exporter": "python",
   "pygments_lexer": "ipython3",
   "version": "3.8.11"
  }
 },
 "nbformat": 4,
 "nbformat_minor": 5
}
