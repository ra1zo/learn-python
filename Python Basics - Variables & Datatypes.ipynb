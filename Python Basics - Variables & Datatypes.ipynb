{
 "cells": [
  {
   "cell_type": "markdown",
   "id": "8bb33c6a",
   "metadata": {},
   "source": [
    "# Variables"
   ]
  },
  {
   "cell_type": "code",
   "execution_count": null,
   "id": "54a04f6f",
   "metadata": {},
   "outputs": [],
   "source": []
  },
  {
   "cell_type": "code",
   "execution_count": 11,
   "id": "831c3632",
   "metadata": {},
   "outputs": [
    {
     "name": "stdout",
     "output_type": "stream",
     "text": [
      "5\n"
     ]
    }
   ],
   "source": [
    "a = 5\n",
    "print(a)"
   ]
  },
  {
   "cell_type": "code",
   "execution_count": 12,
   "id": "889ef7ba",
   "metadata": {},
   "outputs": [],
   "source": [
    "wave = 76"
   ]
  },
  {
   "cell_type": "code",
   "execution_count": 13,
   "id": "8caa94a7",
   "metadata": {},
   "outputs": [
    {
     "data": {
      "text/plain": [
       "76"
      ]
     },
     "execution_count": 13,
     "metadata": {},
     "output_type": "execute_result"
    }
   ],
   "source": [
    "wave"
   ]
  },
  {
   "cell_type": "markdown",
   "id": "8f170797",
   "metadata": {},
   "source": [
    "# Things to keep in mind\n",
    "\n",
    "1. Case Sensistive\n",
    "2. Variable creation using a letter or a word.\n",
    "3. Alpha-numeric variable creation allowed.\n",
    "4. Special char except \"_\" cannot be used to create variable.\n",
    "5. Numbers cannot be at the start of a variable"
   ]
  },
  {
   "cell_type": "code",
   "execution_count": 14,
   "id": "75eea470",
   "metadata": {},
   "outputs": [],
   "source": [
    "A = 10"
   ]
  },
  {
   "cell_type": "code",
   "execution_count": 15,
   "id": "0e7ba0af",
   "metadata": {},
   "outputs": [
    {
     "data": {
      "text/plain": [
       "5"
      ]
     },
     "execution_count": 15,
     "metadata": {},
     "output_type": "execute_result"
    }
   ],
   "source": [
    "a"
   ]
  },
  {
   "cell_type": "code",
   "execution_count": 16,
   "id": "a61f529f",
   "metadata": {},
   "outputs": [
    {
     "data": {
      "text/plain": [
       "10"
      ]
     },
     "execution_count": 16,
     "metadata": {},
     "output_type": "execute_result"
    }
   ],
   "source": [
    "A"
   ]
  },
  {
   "cell_type": "code",
   "execution_count": 17,
   "id": "ed8493e8",
   "metadata": {},
   "outputs": [],
   "source": [
    "hit2 = 23 "
   ]
  },
  {
   "cell_type": "code",
   "execution_count": 18,
   "id": "7f3cedf8",
   "metadata": {},
   "outputs": [
    {
     "data": {
      "text/plain": [
       "23"
      ]
     },
     "execution_count": 18,
     "metadata": {},
     "output_type": "execute_result"
    }
   ],
   "source": [
    "hit2"
   ]
  },
  {
   "cell_type": "code",
   "execution_count": 19,
   "id": "be92b284",
   "metadata": {},
   "outputs": [],
   "source": [
    "_hit = 54"
   ]
  },
  {
   "cell_type": "code",
   "execution_count": 20,
   "id": "ef858c04",
   "metadata": {},
   "outputs": [
    {
     "data": {
      "text/plain": [
       "54"
      ]
     },
     "execution_count": 20,
     "metadata": {},
     "output_type": "execute_result"
    }
   ],
   "source": [
    "_hit"
   ]
  },
  {
   "cell_type": "code",
   "execution_count": 21,
   "id": "bf5dbeee",
   "metadata": {},
   "outputs": [
    {
     "ename": "SyntaxError",
     "evalue": "invalid syntax (<ipython-input-21-c445e88e4495>, line 1)",
     "output_type": "error",
     "traceback": [
      "\u001b[1;36m  File \u001b[1;32m\"<ipython-input-21-c445e88e4495>\"\u001b[1;36m, line \u001b[1;32m1\u001b[0m\n\u001b[1;33m    4hit = 6\u001b[0m\n\u001b[1;37m     ^\u001b[0m\n\u001b[1;31mSyntaxError\u001b[0m\u001b[1;31m:\u001b[0m invalid syntax\n"
     ]
    }
   ],
   "source": [
    "4hit = 6"
   ]
  },
  {
   "cell_type": "markdown",
   "id": "074d7e04",
   "metadata": {},
   "source": [
    "# Data types\n",
    "\n",
    "* Total 14 Datatype in 7 catergory\n",
    "\n",
    "**1. String or Character** - string <br>\n",
    "**2. Numeric** - integer , float, complex<br>\n",
    "**3. List** - list , tuple , range<br>\n",
    "**4. Mapping** - dictionary<br>\n",
    "**5. Set** - set, frozenset<br>\n",
    "**6. Boolean** - bool<br>\n",
    "**7. Binary**- bytes,bytearray,memoryview<br>\n"
   ]
  },
  {
   "cell_type": "markdown",
   "id": "3eb97f68",
   "metadata": {},
   "source": [
    "# String\n"
   ]
  },
  {
   "cell_type": "code",
   "execution_count": 22,
   "id": "ca0afa05",
   "metadata": {},
   "outputs": [],
   "source": [
    "name = 'Samuel'"
   ]
  },
  {
   "cell_type": "code",
   "execution_count": 23,
   "id": "b0ce08f4",
   "metadata": {},
   "outputs": [
    {
     "data": {
      "text/plain": [
       "'Samuel'"
      ]
     },
     "execution_count": 23,
     "metadata": {},
     "output_type": "execute_result"
    }
   ],
   "source": [
    "name"
   ]
  },
  {
   "cell_type": "code",
   "execution_count": 24,
   "id": "2225fe44",
   "metadata": {},
   "outputs": [],
   "source": [
    "name2 = \"Sam\""
   ]
  },
  {
   "cell_type": "code",
   "execution_count": 25,
   "id": "3e90349c",
   "metadata": {},
   "outputs": [
    {
     "data": {
      "text/plain": [
       "'Sam'"
      ]
     },
     "execution_count": 25,
     "metadata": {},
     "output_type": "execute_result"
    }
   ],
   "source": [
    "name2"
   ]
  },
  {
   "cell_type": "code",
   "execution_count": 27,
   "id": "82abe9bd",
   "metadata": {},
   "outputs": [],
   "source": [
    "name3 = \"Let's do programming\"\n"
   ]
  },
  {
   "cell_type": "code",
   "execution_count": 28,
   "id": "b1d1cbe1",
   "metadata": {},
   "outputs": [
    {
     "data": {
      "text/plain": [
       "str"
      ]
     },
     "execution_count": 28,
     "metadata": {},
     "output_type": "execute_result"
    }
   ],
   "source": [
    "type(name3)"
   ]
  },
  {
   "cell_type": "markdown",
   "id": "055630dc",
   "metadata": {},
   "source": [
    "# Numeric \n",
    "## Integer"
   ]
  },
  {
   "cell_type": "code",
   "execution_count": 29,
   "id": "36301432",
   "metadata": {},
   "outputs": [],
   "source": [
    "a = 32"
   ]
  },
  {
   "cell_type": "code",
   "execution_count": 30,
   "id": "13665416",
   "metadata": {},
   "outputs": [
    {
     "data": {
      "text/plain": [
       "int"
      ]
     },
     "execution_count": 30,
     "metadata": {},
     "output_type": "execute_result"
    }
   ],
   "source": [
    "type(a)"
   ]
  },
  {
   "cell_type": "markdown",
   "id": "bf9038ae",
   "metadata": {},
   "source": [
    "## Float"
   ]
  },
  {
   "cell_type": "code",
   "execution_count": 31,
   "id": "3971dcc9",
   "metadata": {},
   "outputs": [],
   "source": [
    "b = 4.5"
   ]
  },
  {
   "cell_type": "code",
   "execution_count": 32,
   "id": "572c3796",
   "metadata": {},
   "outputs": [
    {
     "data": {
      "text/plain": [
       "float"
      ]
     },
     "execution_count": 32,
     "metadata": {},
     "output_type": "execute_result"
    }
   ],
   "source": [
    "type(b)"
   ]
  },
  {
   "cell_type": "markdown",
   "id": "f4ab2ff5",
   "metadata": {},
   "source": [
    "## Complex"
   ]
  },
  {
   "cell_type": "code",
   "execution_count": 33,
   "id": "9cc392c7",
   "metadata": {},
   "outputs": [],
   "source": [
    "c = 3 + 2j"
   ]
  },
  {
   "cell_type": "code",
   "execution_count": 34,
   "id": "2ac40b32",
   "metadata": {},
   "outputs": [
    {
     "data": {
      "text/plain": [
       "complex"
      ]
     },
     "execution_count": 34,
     "metadata": {},
     "output_type": "execute_result"
    }
   ],
   "source": [
    "type(c)"
   ]
  },
  {
   "cell_type": "markdown",
   "id": "e195d23f",
   "metadata": {},
   "source": [
    "# List \n",
    "##  List"
   ]
  },
  {
   "cell_type": "code",
   "execution_count": 35,
   "id": "3b5df9f6",
   "metadata": {},
   "outputs": [],
   "source": [
    "list1 = [1,2,3,4,5]"
   ]
  },
  {
   "cell_type": "code",
   "execution_count": 36,
   "id": "461d3f31",
   "metadata": {},
   "outputs": [
    {
     "data": {
      "text/plain": [
       "list"
      ]
     },
     "execution_count": 36,
     "metadata": {},
     "output_type": "execute_result"
    }
   ],
   "source": [
    "type(list1)"
   ]
  },
  {
   "cell_type": "code",
   "execution_count": 37,
   "id": "bbd8e715",
   "metadata": {},
   "outputs": [],
   "source": [
    "list2 = [1,2.3,4+5j,\"Hi\"]"
   ]
  },
  {
   "cell_type": "code",
   "execution_count": 38,
   "id": "495327c0",
   "metadata": {},
   "outputs": [
    {
     "data": {
      "text/plain": [
       "[1, 2.3, (4+5j), 'Hi']"
      ]
     },
     "execution_count": 38,
     "metadata": {},
     "output_type": "execute_result"
    }
   ],
   "source": [
    "list2"
   ]
  },
  {
   "cell_type": "code",
   "execution_count": 40,
   "id": "dde31e3f",
   "metadata": {},
   "outputs": [
    {
     "data": {
      "text/plain": [
       "list"
      ]
     },
     "execution_count": 40,
     "metadata": {},
     "output_type": "execute_result"
    }
   ],
   "source": [
    "type (list2)"
   ]
  },
  {
   "cell_type": "code",
   "execution_count": 41,
   "id": "46fac81c",
   "metadata": {},
   "outputs": [],
   "source": [
    "list2[2]=4j"
   ]
  },
  {
   "cell_type": "code",
   "execution_count": 44,
   "id": "6b746ca7",
   "metadata": {},
   "outputs": [
    {
     "name": "stdout",
     "output_type": "stream",
     "text": [
      "[1, 2.3, 4j, 'Hi']\n"
     ]
    }
   ],
   "source": [
    "print(list2)"
   ]
  },
  {
   "cell_type": "markdown",
   "id": "1fd3411f",
   "metadata": {},
   "source": [
    "# Tuple"
   ]
  },
  {
   "cell_type": "code",
   "execution_count": 45,
   "id": "dd212ded",
   "metadata": {},
   "outputs": [],
   "source": [
    "list4 = (1,2.3,5j,\"Hello\")"
   ]
  },
  {
   "cell_type": "code",
   "execution_count": 46,
   "id": "98d29c4d",
   "metadata": {},
   "outputs": [
    {
     "data": {
      "text/plain": [
       "tuple"
      ]
     },
     "execution_count": 46,
     "metadata": {},
     "output_type": "execute_result"
    }
   ],
   "source": [
    "type(list4)"
   ]
  },
  {
   "cell_type": "code",
   "execution_count": 47,
   "id": "1ab56871",
   "metadata": {},
   "outputs": [
    {
     "ename": "TypeError",
     "evalue": "'tuple' object does not support item assignment",
     "output_type": "error",
     "traceback": [
      "\u001b[1;31m---------------------------------------------------------------------------\u001b[0m",
      "\u001b[1;31mTypeError\u001b[0m                                 Traceback (most recent call last)",
      "\u001b[1;32m<ipython-input-47-2bf78261d339>\u001b[0m in \u001b[0;36m<module>\u001b[1;34m\u001b[0m\n\u001b[1;32m----> 1\u001b[1;33m \u001b[0mlist4\u001b[0m\u001b[1;33m[\u001b[0m\u001b[1;36m2\u001b[0m\u001b[1;33m]\u001b[0m\u001b[1;33m=\u001b[0m\u001b[1;36m6j\u001b[0m\u001b[1;33m\u001b[0m\u001b[1;33m\u001b[0m\u001b[0m\n\u001b[0m",
      "\u001b[1;31mTypeError\u001b[0m: 'tuple' object does not support item assignment"
     ]
    }
   ],
   "source": [
    "list4[2]=6j"
   ]
  },
  {
   "cell_type": "markdown",
   "id": "1ed69c34",
   "metadata": {},
   "source": [
    "# Range"
   ]
  },
  {
   "cell_type": "markdown",
   "id": "18b664b4",
   "metadata": {},
   "source": [
    "range(start,end,step)"
   ]
  },
  {
   "cell_type": "code",
   "execution_count": 2,
   "id": "95439f67",
   "metadata": {},
   "outputs": [
    {
     "data": {
      "text/plain": [
       "range(1, 20)"
      ]
     },
     "execution_count": 2,
     "metadata": {},
     "output_type": "execute_result"
    }
   ],
   "source": [
    "range(1,20)"
   ]
  },
  {
   "cell_type": "code",
   "execution_count": 3,
   "id": "6dad85ff",
   "metadata": {},
   "outputs": [
    {
     "data": {
      "text/plain": [
       "[1, 2, 3, 4, 5, 6, 7, 8, 9, 10, 11, 12, 13, 14, 15, 16, 17, 18, 19]"
      ]
     },
     "execution_count": 3,
     "metadata": {},
     "output_type": "execute_result"
    }
   ],
   "source": [
    "list(range(1,20))"
   ]
  },
  {
   "cell_type": "code",
   "execution_count": 6,
   "id": "91487e8f",
   "metadata": {},
   "outputs": [],
   "source": [
    "section = list(range(1,50,5))"
   ]
  },
  {
   "cell_type": "code",
   "execution_count": 7,
   "id": "cf662060",
   "metadata": {},
   "outputs": [
    {
     "data": {
      "text/plain": [
       "[1, 6, 11, 16, 21, 26, 31, 36, 41, 46]"
      ]
     },
     "execution_count": 7,
     "metadata": {},
     "output_type": "execute_result"
    }
   ],
   "source": [
    "section"
   ]
  },
  {
   "cell_type": "markdown",
   "id": "04a63104",
   "metadata": {},
   "source": [
    "# Mapping"
   ]
  },
  {
   "cell_type": "markdown",
   "id": "50d9f282",
   "metadata": {},
   "source": [
    "## Dictionary"
   ]
  },
  {
   "cell_type": "code",
   "execution_count": 8,
   "id": "fecc842b",
   "metadata": {},
   "outputs": [],
   "source": [
    "dicty = {'Name':\"Samuel\",\"Class\":['CSE','IT'],'Strength':100}\n"
   ]
  },
  {
   "cell_type": "code",
   "execution_count": 9,
   "id": "1d00abd3",
   "metadata": {},
   "outputs": [
    {
     "data": {
      "text/plain": [
       "dict"
      ]
     },
     "execution_count": 9,
     "metadata": {},
     "output_type": "execute_result"
    }
   ],
   "source": [
    "type(dicty)"
   ]
  },
  {
   "cell_type": "code",
   "execution_count": 11,
   "id": "9a40b6fc",
   "metadata": {},
   "outputs": [
    {
     "data": {
      "text/plain": [
       "['CSE', 'IT']"
      ]
     },
     "execution_count": 11,
     "metadata": {},
     "output_type": "execute_result"
    }
   ],
   "source": [
    "dicty[\"Class\"]"
   ]
  },
  {
   "cell_type": "code",
   "execution_count": 12,
   "id": "b1d426e3",
   "metadata": {},
   "outputs": [
    {
     "data": {
      "text/plain": [
       "'Samuel'"
      ]
     },
     "execution_count": 12,
     "metadata": {},
     "output_type": "execute_result"
    }
   ],
   "source": [
    "dicty[\"Name\"]"
   ]
  },
  {
   "cell_type": "code",
   "execution_count": 13,
   "id": "c8206a03",
   "metadata": {},
   "outputs": [],
   "source": [
    "dicty2={\"Name\":[\"Samuel\",\"Britto\",\"Prakash\"],5:6j,6:65}"
   ]
  },
  {
   "cell_type": "code",
   "execution_count": 14,
   "id": "3fbe1804",
   "metadata": {},
   "outputs": [
    {
     "data": {
      "text/plain": [
       "{'Name': ['Samuel', 'Britto', 'Prakash'], 5: 6j, 6: 65}"
      ]
     },
     "execution_count": 14,
     "metadata": {},
     "output_type": "execute_result"
    }
   ],
   "source": [
    "dicty2"
   ]
  },
  {
   "cell_type": "code",
   "execution_count": 24,
   "id": "31ae097c",
   "metadata": {},
   "outputs": [
    {
     "data": {
      "text/plain": [
       "6j"
      ]
     },
     "execution_count": 24,
     "metadata": {},
     "output_type": "execute_result"
    }
   ],
   "source": [
    "dicty2[5]"
   ]
  },
  {
   "cell_type": "code",
   "execution_count": null,
   "id": "facb356b",
   "metadata": {},
   "outputs": [],
   "source": []
  },
  {
   "cell_type": "code",
   "execution_count": 25,
   "id": "869df0c9",
   "metadata": {},
   "outputs": [],
   "source": [
    "#Nested Dictionary"
   ]
  },
  {
   "cell_type": "code",
   "execution_count": 23,
   "id": "51d2b36a",
   "metadata": {},
   "outputs": [],
   "source": [
    "pep = {1:{'a':1,'b':2,'c':3},\n",
    "       2:{1:'D',2:\"E\",3:'F'}}"
   ]
  },
  {
   "cell_type": "code",
   "execution_count": 20,
   "id": "16b7805e",
   "metadata": {},
   "outputs": [
    {
     "data": {
      "text/plain": [
       "{'a': 1, 'b': 2, 'c': 3}"
      ]
     },
     "execution_count": 20,
     "metadata": {},
     "output_type": "execute_result"
    }
   ],
   "source": [
    "pep[1]"
   ]
  },
  {
   "cell_type": "code",
   "execution_count": 21,
   "id": "86510119",
   "metadata": {},
   "outputs": [
    {
     "data": {
      "text/plain": [
       "{1: 'D', 2: 'E', 3: 'F'}"
      ]
     },
     "execution_count": 21,
     "metadata": {},
     "output_type": "execute_result"
    }
   ],
   "source": [
    "pep[2]"
   ]
  },
  {
   "cell_type": "code",
   "execution_count": 22,
   "id": "839f5fd7",
   "metadata": {},
   "outputs": [
    {
     "data": {
      "text/plain": [
       "2"
      ]
     },
     "execution_count": 22,
     "metadata": {},
     "output_type": "execute_result"
    }
   ],
   "source": [
    "pep[1]['b']"
   ]
  },
  {
   "cell_type": "markdown",
   "id": "0c27ec2e",
   "metadata": {},
   "source": [
    "# Set"
   ]
  },
  {
   "cell_type": "markdown",
   "id": "9783e917",
   "metadata": {},
   "source": [
    "## 1.Set"
   ]
  },
  {
   "cell_type": "code",
   "execution_count": 26,
   "id": "1e900f61",
   "metadata": {},
   "outputs": [],
   "source": [
    "wank = {1,2,53,1,164,88,9,631,52,3}"
   ]
  },
  {
   "cell_type": "code",
   "execution_count": 27,
   "id": "6d946669",
   "metadata": {},
   "outputs": [
    {
     "data": {
      "text/plain": [
       "set"
      ]
     },
     "execution_count": 27,
     "metadata": {},
     "output_type": "execute_result"
    }
   ],
   "source": [
    "type(wank)"
   ]
  },
  {
   "cell_type": "code",
   "execution_count": 28,
   "id": "e8986cf1",
   "metadata": {},
   "outputs": [
    {
     "data": {
      "text/plain": [
       "{1, 2, 3, 9, 52, 53, 64, 88, 631}"
      ]
     },
     "execution_count": 28,
     "metadata": {},
     "output_type": "execute_result"
    }
   ],
   "source": [
    "wank"
   ]
  },
  {
   "cell_type": "code",
   "execution_count": 31,
   "id": "0fad400d",
   "metadata": {},
   "outputs": [],
   "source": [
    "wink =frozenset({1,2,53,1,164,88,9,631,52,3})"
   ]
  },
  {
   "cell_type": "code",
   "execution_count": 32,
   "id": "62e047b5",
   "metadata": {},
   "outputs": [
    {
     "data": {
      "text/plain": [
       "frozenset"
      ]
     },
     "execution_count": 32,
     "metadata": {},
     "output_type": "execute_result"
    }
   ],
   "source": [
    "type(wink)"
   ]
  },
  {
   "cell_type": "code",
   "execution_count": 33,
   "id": "361da85e",
   "metadata": {},
   "outputs": [
    {
     "data": {
      "text/plain": [
       "frozenset({1, 2, 3, 9, 52, 53, 88, 164, 631})"
      ]
     },
     "execution_count": 33,
     "metadata": {},
     "output_type": "execute_result"
    }
   ],
   "source": [
    "wink"
   ]
  },
  {
   "cell_type": "markdown",
   "id": "4ec1c18b",
   "metadata": {},
   "source": [
    "# Boolean"
   ]
  },
  {
   "cell_type": "code",
   "execution_count": 34,
   "id": "00686e00",
   "metadata": {},
   "outputs": [],
   "source": [
    "g = True"
   ]
  },
  {
   "cell_type": "code",
   "execution_count": 35,
   "id": "b3ff7d4a",
   "metadata": {},
   "outputs": [
    {
     "data": {
      "text/plain": [
       "bool"
      ]
     },
     "execution_count": 35,
     "metadata": {},
     "output_type": "execute_result"
    }
   ],
   "source": [
    "type(g)"
   ]
  },
  {
   "cell_type": "code",
   "execution_count": 36,
   "id": "8e6d30e8",
   "metadata": {},
   "outputs": [],
   "source": [
    "f = False"
   ]
  },
  {
   "cell_type": "markdown",
   "id": "b7d89684",
   "metadata": {},
   "source": [
    "# Task\n",
    "## Create your profile using datatypes. Provide relevant info for appropriate datatypes"
   ]
  },
  {
   "cell_type": "code",
   "execution_count": 61,
   "id": "032cb2ae",
   "metadata": {},
   "outputs": [],
   "source": [
    "Year = list(range(2019,2024))\n",
    "Degree=[\"B.Tech IT\"]\n",
    "studInfo={\"Name\":\"Samuel Britto\",\"CGPA\":9.6,\"Intrest\":[\"Gaming\",\"Streaming\"],\"Graduated\":False,\"graduationYear\":Year,\"Degree\":Degree}"
   ]
  },
  {
   "cell_type": "code",
   "execution_count": 62,
   "id": "758074ab",
   "metadata": {},
   "outputs": [
    {
     "data": {
      "text/plain": [
       "{'Name': 'Samuel Britto',\n",
       " 'CGPA': 9.6,\n",
       " 'Intrest': ['Gaming', 'Streaming'],\n",
       " 'Graduated': False,\n",
       " 'graduationYear': [2019, 2020, 2021, 2022, 2023],\n",
       " 'Degree': ['B.Tech IT']}"
      ]
     },
     "execution_count": 62,
     "metadata": {},
     "output_type": "execute_result"
    }
   ],
   "source": [
    "studInfo"
   ]
  },
  {
   "cell_type": "code",
   "execution_count": null,
   "id": "b5a75e39",
   "metadata": {},
   "outputs": [],
   "source": []
  }
 ],
 "metadata": {
  "kernelspec": {
   "display_name": "Python 3",
   "language": "python",
   "name": "python3"
  },
  "language_info": {
   "codemirror_mode": {
    "name": "ipython",
    "version": 3
   },
   "file_extension": ".py",
   "mimetype": "text/x-python",
   "name": "python",
   "nbconvert_exporter": "python",
   "pygments_lexer": "ipython3",
   "version": "3.8.11"
  }
 },
 "nbformat": 4,
 "nbformat_minor": 5
}
