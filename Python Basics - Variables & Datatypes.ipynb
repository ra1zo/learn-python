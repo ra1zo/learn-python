{
 "cells": [
  {
   "cell_type": "markdown",
   "id": "8bb33c6a",
   "metadata": {},
   "source": [
    "# Variables"
   ]
  },
  {
   "cell_type": "code",
   "execution_count": null,
   "id": "54a04f6f",
   "metadata": {},
   "outputs": [],
   "source": []
  },
  {
   "cell_type": "code",
   "execution_count": 11,
   "id": "831c3632",
   "metadata": {},
   "outputs": [
    {
     "name": "stdout",
     "output_type": "stream",
     "text": [
      "5\n"
     ]
    }
   ],
   "source": [
    "a = 5\n",
    "print(a)"
   ]
  },
  {
   "cell_type": "code",
   "execution_count": 12,
   "id": "889ef7ba",
   "metadata": {},
   "outputs": [],
   "source": [
    "wave = 76"
   ]
  },
  {
   "cell_type": "code",
   "execution_count": 13,
   "id": "8caa94a7",
   "metadata": {},
   "outputs": [
    {
     "data": {
      "text/plain": [
       "76"
      ]
     },
     "execution_count": 13,
     "metadata": {},
     "output_type": "execute_result"
    }
   ],
   "source": [
    "wave"
   ]
  },
  {
   "cell_type": "markdown",
   "id": "8f170797",
   "metadata": {},
   "source": [
    "# Things to keep in mind\n",
    "\n",
    "1. Case Sensistive\n",
    "2. Variable creation using a letter or a word.\n",
    "3. Alpha-numeric variable creation allowed.\n",
    "4. Special char except \"_\" cannot be used to create variable.\n",
    "5. Numbers cannot be at the start of a variable"
   ]
  },
  {
   "cell_type": "code",
   "execution_count": 14,
   "id": "75eea470",
   "metadata": {},
   "outputs": [],
   "source": [
    "A = 10"
   ]
  },
  {
   "cell_type": "code",
   "execution_count": 15,
   "id": "0e7ba0af",
   "metadata": {},
   "outputs": [
    {
     "data": {
      "text/plain": [
       "5"
      ]
     },
     "execution_count": 15,
     "metadata": {},
     "output_type": "execute_result"
    }
   ],
   "source": [
    "a"
   ]
  },
  {
   "cell_type": "code",
   "execution_count": 16,
   "id": "a61f529f",
   "metadata": {},
   "outputs": [
    {
     "data": {
      "text/plain": [
       "10"
      ]
     },
     "execution_count": 16,
     "metadata": {},
     "output_type": "execute_result"
    }
   ],
   "source": [
    "A"
   ]
  },
  {
   "cell_type": "code",
   "execution_count": 17,
   "id": "ed8493e8",
   "metadata": {},
   "outputs": [],
   "source": [
    "hit2 = 23 "
   ]
  },
  {
   "cell_type": "code",
   "execution_count": 18,
   "id": "7f3cedf8",
   "metadata": {},
   "outputs": [
    {
     "data": {
      "text/plain": [
       "23"
      ]
     },
     "execution_count": 18,
     "metadata": {},
     "output_type": "execute_result"
    }
   ],
   "source": [
    "hit2"
   ]
  },
  {
   "cell_type": "code",
   "execution_count": 19,
   "id": "be92b284",
   "metadata": {},
   "outputs": [],
   "source": [
    "_hit = 54"
   ]
  },
  {
   "cell_type": "code",
   "execution_count": 20,
   "id": "ef858c04",
   "metadata": {},
   "outputs": [
    {
     "data": {
      "text/plain": [
       "54"
      ]
     },
     "execution_count": 20,
     "metadata": {},
     "output_type": "execute_result"
    }
   ],
   "source": [
    "_hit"
   ]
  },
  {
   "cell_type": "code",
   "execution_count": 21,
   "id": "bf5dbeee",
   "metadata": {},
   "outputs": [
    {
     "ename": "SyntaxError",
     "evalue": "invalid syntax (<ipython-input-21-c445e88e4495>, line 1)",
     "output_type": "error",
     "traceback": [
      "\u001b[1;36m  File \u001b[1;32m\"<ipython-input-21-c445e88e4495>\"\u001b[1;36m, line \u001b[1;32m1\u001b[0m\n\u001b[1;33m    4hit = 6\u001b[0m\n\u001b[1;37m     ^\u001b[0m\n\u001b[1;31mSyntaxError\u001b[0m\u001b[1;31m:\u001b[0m invalid syntax\n"
     ]
    }
   ],
   "source": [
    "4hit = 6"
   ]
  },
  {
   "cell_type": "markdown",
   "id": "074d7e04",
   "metadata": {},
   "source": [
    "# Data types\n",
    "\n",
    "* Total 14 Datatype in 7 catergory\n",
    "\n",
    "**1. String or Character** - string <br>\n",
    "**2. Numeric** - integer , float, complex<br>\n",
    "**3. List** - list , tuple , range<br>\n",
    "**4. Mapping** - dictionary<br>\n",
    "**5. Set** - set, frozenset<br>\n",
    "**6. Boolean** - bool<br>\n",
    "**7. Binary**- bytes,bytearray,memoryview<br>\n"
   ]
  },
  {
   "cell_type": "markdown",
   "id": "3eb97f68",
   "metadata": {},
   "source": [
    "# String\n"
   ]
  },
  {
   "cell_type": "code",
   "execution_count": 22,
   "id": "ca0afa05",
   "metadata": {},
   "outputs": [],
   "source": [
    "name = 'Samuel'"
   ]
  },
  {
   "cell_type": "code",
   "execution_count": 23,
   "id": "b0ce08f4",
   "metadata": {},
   "outputs": [
    {
     "data": {
      "text/plain": [
       "'Samuel'"
      ]
     },
     "execution_count": 23,
     "metadata": {},
     "output_type": "execute_result"
    }
   ],
   "source": [
    "name"
   ]
  },
  {
   "cell_type": "code",
   "execution_count": 24,
   "id": "2225fe44",
   "metadata": {},
   "outputs": [],
   "source": [
    "name2 = \"Sam\""
   ]
  },
  {
   "cell_type": "code",
   "execution_count": 25,
   "id": "3e90349c",
   "metadata": {},
   "outputs": [
    {
     "data": {
      "text/plain": [
       "'Sam'"
      ]
     },
     "execution_count": 25,
     "metadata": {},
     "output_type": "execute_result"
    }
   ],
   "source": [
    "name2"
   ]
  },
  {
   "cell_type": "code",
   "execution_count": 27,
   "id": "82abe9bd",
   "metadata": {},
   "outputs": [],
   "source": [
    "name3 = \"Let's do programming\"\n"
   ]
  },
  {
   "cell_type": "code",
   "execution_count": 28,
   "id": "b1d1cbe1",
   "metadata": {},
   "outputs": [
    {
     "data": {
      "text/plain": [
       "str"
      ]
     },
     "execution_count": 28,
     "metadata": {},
     "output_type": "execute_result"
    }
   ],
   "source": [
    "type(name3)"
   ]
  },
  {
   "cell_type": "markdown",
   "id": "055630dc",
   "metadata": {},
   "source": [
    "# Numeric \n",
    "## Integer"
   ]
  },
  {
   "cell_type": "code",
   "execution_count": 29,
   "id": "36301432",
   "metadata": {},
   "outputs": [],
   "source": [
    "a = 32"
   ]
  },
  {
   "cell_type": "code",
   "execution_count": 30,
   "id": "13665416",
   "metadata": {},
   "outputs": [
    {
     "data": {
      "text/plain": [
       "int"
      ]
     },
     "execution_count": 30,
     "metadata": {},
     "output_type": "execute_result"
    }
   ],
   "source": [
    "type(a)"
   ]
  },
  {
   "cell_type": "markdown",
   "id": "bf9038ae",
   "metadata": {},
   "source": [
    "## Float"
   ]
  },
  {
   "cell_type": "code",
   "execution_count": 31,
   "id": "3971dcc9",
   "metadata": {},
   "outputs": [],
   "source": [
    "b = 4.5"
   ]
  },
  {
   "cell_type": "code",
   "execution_count": 32,
   "id": "572c3796",
   "metadata": {},
   "outputs": [
    {
     "data": {
      "text/plain": [
       "float"
      ]
     },
     "execution_count": 32,
     "metadata": {},
     "output_type": "execute_result"
    }
   ],
   "source": [
    "type(b)"
   ]
  },
  {
   "cell_type": "markdown",
   "id": "f4ab2ff5",
   "metadata": {},
   "source": [
    "## Complex"
   ]
  },
  {
   "cell_type": "code",
   "execution_count": 33,
   "id": "9cc392c7",
   "metadata": {},
   "outputs": [],
   "source": [
    "c = 3 + 2j"
   ]
  },
  {
   "cell_type": "code",
   "execution_count": 34,
   "id": "2ac40b32",
   "metadata": {},
   "outputs": [
    {
     "data": {
      "text/plain": [
       "complex"
      ]
     },
     "execution_count": 34,
     "metadata": {},
     "output_type": "execute_result"
    }
   ],
   "source": [
    "type(c)"
   ]
  },
  {
   "cell_type": "markdown",
   "id": "e195d23f",
   "metadata": {},
   "source": [
    "# List \n",
    "##  List"
   ]
  },
  {
   "cell_type": "code",
   "execution_count": 35,
   "id": "3b5df9f6",
   "metadata": {},
   "outputs": [],
   "source": [
    "list1 = [1,2,3,4,5]"
   ]
  },
  {
   "cell_type": "code",
   "execution_count": 36,
   "id": "461d3f31",
   "metadata": {},
   "outputs": [
    {
     "data": {
      "text/plain": [
       "list"
      ]
     },
     "execution_count": 36,
     "metadata": {},
     "output_type": "execute_result"
    }
   ],
   "source": [
    "type(list1)"
   ]
  },
  {
   "cell_type": "code",
   "execution_count": 37,
   "id": "bbd8e715",
   "metadata": {},
   "outputs": [],
   "source": [
    "list2 = [1,2.3,4+5j,\"Hi\"]"
   ]
  },
  {
   "cell_type": "code",
   "execution_count": 38,
   "id": "495327c0",
   "metadata": {},
   "outputs": [
    {
     "data": {
      "text/plain": [
       "[1, 2.3, (4+5j), 'Hi']"
      ]
     },
     "execution_count": 38,
     "metadata": {},
     "output_type": "execute_result"
    }
   ],
   "source": [
    "list2"
   ]
  },
  {
   "cell_type": "code",
   "execution_count": 40,
   "id": "dde31e3f",
   "metadata": {},
   "outputs": [
    {
     "data": {
      "text/plain": [
       "list"
      ]
     },
     "execution_count": 40,
     "metadata": {},
     "output_type": "execute_result"
    }
   ],
   "source": [
    "type (list2)"
   ]
  },
  {
   "cell_type": "code",
   "execution_count": 41,
   "id": "46fac81c",
   "metadata": {},
   "outputs": [],
   "source": [
    "list2[2]=4j"
   ]
  },
  {
   "cell_type": "code",
   "execution_count": 44,
   "id": "6b746ca7",
   "metadata": {},
   "outputs": [
    {
     "name": "stdout",
     "output_type": "stream",
     "text": [
      "[1, 2.3, 4j, 'Hi']\n"
     ]
    }
   ],
   "source": [
    "print(list2)"
   ]
  },
  {
   "cell_type": "markdown",
   "id": "1fd3411f",
   "metadata": {},
   "source": [
    "# Tuple"
   ]
  },
  {
   "cell_type": "code",
   "execution_count": 45,
   "id": "dd212ded",
   "metadata": {},
   "outputs": [],
   "source": [
    "list4 = (1,2.3,5j,\"Hello\")"
   ]
  },
  {
   "cell_type": "code",
   "execution_count": 46,
   "id": "98d29c4d",
   "metadata": {},
   "outputs": [
    {
     "data": {
      "text/plain": [
       "tuple"
      ]
     },
     "execution_count": 46,
     "metadata": {},
     "output_type": "execute_result"
    }
   ],
   "source": [
    "type(list4)"
   ]
  },
  {
   "cell_type": "code",
   "execution_count": 47,
   "id": "1ab56871",
   "metadata": {},
   "outputs": [
    {
     "ename": "TypeError",
     "evalue": "'tuple' object does not support item assignment",
     "output_type": "error",
     "traceback": [
      "\u001b[1;31m---------------------------------------------------------------------------\u001b[0m",
      "\u001b[1;31mTypeError\u001b[0m                                 Traceback (most recent call last)",
      "\u001b[1;32m<ipython-input-47-2bf78261d339>\u001b[0m in \u001b[0;36m<module>\u001b[1;34m\u001b[0m\n\u001b[1;32m----> 1\u001b[1;33m \u001b[0mlist4\u001b[0m\u001b[1;33m[\u001b[0m\u001b[1;36m2\u001b[0m\u001b[1;33m]\u001b[0m\u001b[1;33m=\u001b[0m\u001b[1;36m6j\u001b[0m\u001b[1;33m\u001b[0m\u001b[1;33m\u001b[0m\u001b[0m\n\u001b[0m",
      "\u001b[1;31mTypeError\u001b[0m: 'tuple' object does not support item assignment"
     ]
    }
   ],
   "source": [
    "list4[2]=6j"
   ]
  },
  {
   "cell_type": "code",
   "execution_count": null,
   "id": "fa6334c5",
   "metadata": {},
   "outputs": [],
   "source": []
  }
 ],
 "metadata": {
  "kernelspec": {
   "display_name": "Python 3",
   "language": "python",
   "name": "python3"
  },
  "language_info": {
   "codemirror_mode": {
    "name": "ipython",
    "version": 3
   },
   "file_extension": ".py",
   "mimetype": "text/x-python",
   "name": "python",
   "nbconvert_exporter": "python",
   "pygments_lexer": "ipython3",
   "version": "3.8.11"
  }
 },
 "nbformat": 4,
 "nbformat_minor": 5
}
